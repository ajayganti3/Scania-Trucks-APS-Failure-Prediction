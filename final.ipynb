{
  "nbformat": 4,
  "nbformat_minor": 0,
  "metadata": {
    "colab": {
      "name": "final.ipynb",
      "provenance": [],
      "collapsed_sections": []
    },
    "kernelspec": {
      "name": "python3",
      "display_name": "Python 3"
    }
  },
  "cells": [
    {
      "cell_type": "code",
      "metadata": {
        "id": "01itCrlr13Im"
      },
      "source": [
        "import time\n",
        "import pandas as pd\n",
        "import numpy as np\n",
        "import pickle\n",
        "import random\n",
        "import warnings\n",
        "warnings.filterwarnings(\"ignore\")\n",
        "from sklearn.impute import SimpleImputer\n",
        "from sklearn.preprocessing import StandardScaler\n",
        "from sklearn.linear_model import LogisticRegression\n",
        "from sklearn.ensemble import RandomForestClassifier\n",
        "from sklearn.tree import DecisionTreeClassifier\n",
        "import lightgbm as lgb\n",
        "from mlxtend.classifier import StackingClassifier\n",
        "from mlxtend.classifier import StackingCVClassifier\n",
        "from sklearn.metrics import confusion_matrix\n",
        "from sklearn.model_selection import train_test_split"
      ],
      "execution_count": null,
      "outputs": []
    },
    {
      "cell_type": "code",
      "metadata": {
        "colab": {
          "base_uri": "https://localhost:8080/"
        },
        "id": "VA9PUNGB2RkR",
        "outputId": "cf131f8b-1e2d-4fa9-ddcd-a526ac969f24"
      },
      "source": [
        "from google.colab import drive\n",
        "drive.mount('/content/gdrive')"
      ],
      "execution_count": null,
      "outputs": [
        {
          "output_type": "stream",
          "text": [
            "Mounted at /content/gdrive\n"
          ],
          "name": "stdout"
        }
      ]
    },
    {
      "cell_type": "markdown",
      "metadata": {
        "id": "A21Amtw0agpU"
      },
      "source": [
        "### Load the pickle files"
      ]
    },
    {
      "cell_type": "code",
      "metadata": {
        "id": "aYf72LnGL1A-"
      },
      "source": [
        "# load the imputer\n",
        "with open('/content/gdrive/My Drive/Case Study 1/Base Data/imputer.pkl', 'rb') as f:\n",
        "    imputer = pickle.load(f)\n",
        "\n",
        "# load the classifer\n",
        "with open('/content/gdrive/My Drive/Case Study 1/Base Data/classifier.pkl', 'rb') as f:\n",
        "    classifier = pickle.load(f)"
      ],
      "execution_count": null,
      "outputs": []
    },
    {
      "cell_type": "markdown",
      "metadata": {
        "id": "ubTsKPL5aC2i"
      },
      "source": [
        "### Loading sample Data"
      ]
    },
    {
      "cell_type": "code",
      "metadata": {
        "id": "7pqqV8LRNXju"
      },
      "source": [
        "# Load the data\n",
        "data = pd.read_csv('/content/gdrive/My Drive/Case Study 1/aps_failure_test_set.csv')\n",
        "data[\"class\"] = data[\"class\"].map({\"neg\":0,\"pos\":1})\n",
        "X = data.drop(['class'],axis=1)\n",
        "y = data['class']\n",
        "X_train, X_test, y_train, y_test = train_test_split(X, y, test_size=0.2)"
      ],
      "execution_count": null,
      "outputs": []
    },
    {
      "cell_type": "code",
      "metadata": {
        "colab": {
          "base_uri": "https://localhost:8080/"
        },
        "id": "KnQeJoB0QKWw",
        "outputId": "c45144ea-0f7e-460f-eb9d-33a13fdad8d3"
      },
      "source": [
        "#Selecting a random value from the test data\n",
        "rand=random.randrange(0,len(X_test))\n",
        "X_sample=X.iloc[rand,:]\n",
        "y_sample=y_test.iloc[rand]\n",
        "print('Actual target : ',y_sample)"
      ],
      "execution_count": null,
      "outputs": [
        {
          "output_type": "stream",
          "text": [
            "Actual target :  0\n"
          ],
          "name": "stdout"
        }
      ]
    },
    {
      "cell_type": "markdown",
      "metadata": {
        "id": "AVnGjpiBaGYC"
      },
      "source": [
        "### Function 1\n",
        "\n",
        "Takes Data Point as input and gives its corresponding output"
      ]
    },
    {
      "cell_type": "code",
      "metadata": {
        "id": "V8JoUyrP4H5G"
      },
      "source": [
        "def function_1(X):\n",
        "    X = pd.DataFrame(X).transpose()\n",
        "    X.reset_index(inplace = True,drop = True)\n",
        "    X = X.replace({ \"na\": np.nan})\n",
        "    for col in X.columns:\n",
        "        if col != 'class':\n",
        "            X[col] = X[col].astype(float)\n",
        "    feature_list = ['bj_000','al_000','ci_000','aq_000','bv_000','ag_001','cq_000','bt_000','ag_002','am_0','ck_000','aa_000','ee_005','ag_003','dn_000','cc_000','cn_000','bb_000','bg_000','cn_001']\n",
        "    for col in feature_list:\n",
        "        new_col = col + '_isNull'\n",
        "        X[new_col] = np.where(X[col].isnull(),1,0)\n",
        "    drop_cols = ['br_000', 'bq_000', 'bp_000', 'bo_000', 'ab_000', 'cr_000', 'bn_000', 'bm_000']\n",
        "    X = X.drop(labels = drop_cols, axis = 1)\n",
        "    isnull_cols = []\n",
        "    for col in X.columns:\n",
        "        if 'isNull' in col:\n",
        "            isnull_cols.append(col)\n",
        "    X_fe = X[isnull_cols]\n",
        "    X.drop(labels=isnull_cols, axis = 1,inplace=True)\n",
        "    X_imputed = imputer.transform(X)\n",
        "    X_ = pd.DataFrame(data = X_imputed, columns = X.columns)\n",
        "    X = pd.concat([X_,X_fe],axis = 1)\n",
        "    y_pred = classifier.predict(X.values)\n",
        "    print('The predicted class for the given input data point is {0}'.format(y_pred[0]))\n",
        "    return"
      ],
      "execution_count": null,
      "outputs": []
    },
    {
      "cell_type": "code",
      "metadata": {
        "colab": {
          "base_uri": "https://localhost:8080/"
        },
        "id": "BKxh2RTlTKxg",
        "outputId": "506ae924-8bbc-4842-8ffe-a822dd90db3a"
      },
      "source": [
        "start_time = time.time()\n",
        "function_1(X_sample)\n",
        "print(\"--- %s seconds ---\" % (time.time() - start_time))"
      ],
      "execution_count": null,
      "outputs": [
        {
          "output_type": "stream",
          "text": [
            "The predicted class for the given input data point is 0\n",
            "--- 0.21440410614013672 seconds ---\n"
          ],
          "name": "stdout"
        },
        {
          "output_type": "stream",
          "text": [
            "[Parallel(n_jobs=2)]: Using backend ThreadingBackend with 2 concurrent workers.\n",
            "[Parallel(n_jobs=2)]: Done  28 tasks      | elapsed:    0.0s\n",
            "[Parallel(n_jobs=2)]: Done 124 tasks      | elapsed:    0.0s\n",
            "[Parallel(n_jobs=2)]: Done 200 out of 200 | elapsed:    0.1s finished\n"
          ],
          "name": "stderr"
        }
      ]
    },
    {
      "cell_type": "markdown",
      "metadata": {
        "id": "zyZq2cUuaRUt"
      },
      "source": [
        "### Function 2\n",
        "Takes data point and gives the cost metric"
      ]
    },
    {
      "cell_type": "code",
      "metadata": {
        "id": "6cPk_l55GKZn"
      },
      "source": [
        "def function_2(X, y):\n",
        "    X.reset_index(inplace = True,drop = True)\n",
        "    y.reset_index(inplace = True,drop = True)\n",
        "    X = X.replace({ \"na\": np.nan})\n",
        "    for col in X.columns:\n",
        "        if col != 'class':\n",
        "            X[col] = X[col].astype(float)\n",
        "    feature_list = ['bj_000','al_000','ci_000','aq_000','bv_000','ag_001','cq_000','bt_000','ag_002','am_0','ck_000','aa_000','ee_005','ag_003','dn_000','cc_000','cn_000','bb_000','bg_000','cn_001']\n",
        "    for col in feature_list:\n",
        "        new_col = col + '_isNull'\n",
        "        X[new_col] = np.where(X[col].isnull(),1,0)\n",
        "    drop_cols = ['br_000', 'bq_000', 'bp_000', 'bo_000', 'ab_000', 'cr_000', 'bn_000', 'bm_000']\n",
        "    X = X.drop(labels = drop_cols, axis = 1)\n",
        "    isnull_cols = []\n",
        "    for col in X.columns:\n",
        "        if 'isNull' in col:\n",
        "            isnull_cols.append(col)\n",
        "    X_fe = X[isnull_cols]\n",
        "    X.drop(labels=isnull_cols, axis = 1,inplace=True)\n",
        "    X_imputed = imputer.transform(X)\n",
        "    X_ = pd.DataFrame(data = X_imputed, columns = X.columns)\n",
        "    X = pd.concat([X_,X_fe],axis = 1)\n",
        "    y_pred = classifier.predict(X.values)\n",
        "    cm = confusion_matrix(y, y_pred)\n",
        "    tn, fp, fn, tp = cm.ravel()\n",
        "    print('The cost is {0}'.format((fp*10)+(fn*500)))\n",
        "    return"
      ],
      "execution_count": null,
      "outputs": []
    },
    {
      "cell_type": "code",
      "metadata": {
        "colab": {
          "base_uri": "https://localhost:8080/"
        },
        "id": "r4hRkzeBK9uG",
        "outputId": "6abf783e-5dc8-4f29-f410-844a592dbabd"
      },
      "source": [
        "start_time = time.time()\n",
        "function_2(X_test, y_test)\n",
        "print(\"--- %s seconds ---\" % (time.time() - start_time))"
      ],
      "execution_count": null,
      "outputs": [
        {
          "output_type": "stream",
          "text": [
            "The cost is 1080\n",
            "--- 1.429694652557373 seconds ---\n"
          ],
          "name": "stdout"
        },
        {
          "output_type": "stream",
          "text": [
            "[Parallel(n_jobs=2)]: Using backend ThreadingBackend with 2 concurrent workers.\n",
            "[Parallel(n_jobs=2)]: Done  28 tasks      | elapsed:    0.0s\n",
            "[Parallel(n_jobs=2)]: Done 124 tasks      | elapsed:    0.1s\n",
            "[Parallel(n_jobs=2)]: Done 200 out of 200 | elapsed:    0.1s finished\n"
          ],
          "name": "stderr"
        }
      ]
    }
  ]
}